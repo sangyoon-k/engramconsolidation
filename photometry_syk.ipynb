{
 "cells": [
  {
   "cell_type": "code",
   "execution_count": 3,
   "id": "ae4b2f42-e0a9-4deb-839d-061cf0701653",
   "metadata": {},
   "outputs": [],
   "source": [
    "import os\n",
    "import numpy as np \n",
    "import pandas as pd\n",
    "import matplotlib.pyplot as plt\n",
    "from scipy.interpolate import interp1d\n",
    "from scipy.signal import butter, filtfilt, find_peaks\n",
    "from scipy.ndimage import gaussian_filter1d\n",
    "from sklearn.preprocessing import scale\n",
    "import seaborn as sns\n",
    "from tqdm import tqdm"
   ]
  },
  {
   "cell_type": "code",
   "execution_count": null,
   "id": "66bd81f2-fc94-4992-9f87-bd32b655dac7",
   "metadata": {},
   "outputs": [],
   "source": [
    "#Acquisition of data\n",
    "file_data = {\"Filename\":[], \"DataType\":[], \"Condition\":[], \"Context\":[], \"Timepoint\":[],  \"Subject\":[]}\n",
    "folder = \"collected_data\"\n",
    "files = os.listdir(folder)\n",
    "\n",
    "for file in files:\n",
    "    # Need to filter and assign each file to a data type (e.g., \"photometry\", \"dlc\", \"video_timestamps\").\n",
    "\t# Need to extract metadata, including group name, context, test time point, and subject ID (e.g., \"con\", \"context A\", \"recent\").\n",
    "    file_data[\"Filename\"].append(os.path.join(folder, file))\n",
    "    file_data[\"DataType\"].append(data_type)\n",
    "    file_data[\"Condition\"].append(condition)\n",
    "    file_data[\"Context\"].append(context)\n",
    "    file_data[\"Timepoint\"].append(timepoint)\n",
    "    file_data[\"Subject\"].append(subject)\n",
    "\n",
    "file_df = pd.DataFrame(file_data)\n",
    "pd.set_option('display.max_rows', None)\n",
    "file_df"
   ]
  },
  {
   "cell_type": "code",
   "execution_count": null,
   "id": "295f9456-aa43-41c3-b68c-0313c002f890",
   "metadata": {},
   "outputs": [],
   "source": [
    "# Peak extraction\n",
    "def filter_channel_data(pd_data, led_state, region=\"Region0G\", sigma=1.):\n",
    "    led_state = str(led_state)\n",
    "    channel = pd_data.query(\"LedState=={}\".format(led_state))[region].values\n",
    "    ch_ts = pd_data.query(\"LedState=={}\".format(led_state))[\"Timestamp\"].values\n",
    "    f_ch = interp1d(ch_ts, channel, fill_value=\"extrapolate\")\n",
    "    ch_interp = f_ch(ts)\n",
    "    return gaussian_filter1d(ch_interp, sigma)\n",
    "\n",
    "for context in [\"homecage\", \"A\", \"B\"]:\n",
    "    session_files = file_df.query(\"Condition == @condition and Context == @context and Timepoint == @timepoint and Subject == @subject\")\n",
    "\n",
    "    photometry_file = session_files.query(\"DataType == 'photometry'\")[\"Filename\"].values[0]\n",
    "    data = pd.read_csv(photometry_file)\n",
    "    ts = np.arange(data[\"Timestamp\"][0], data[\"Timestamp\"].values[-1], 1/fs)\n",
    "    \n",
    "    # filter the original photometry data in each channel\n",
    "    ch1_interp = filter_channel_data(data, led_state=1)\n",
    "    ch2_interp = filter_channel_data(data, led_state=2)\n",
    "        \n",
    "    # apply the Butterworth high-pass filter to the normalized data within a given time window\n",
    "    ts, ch1_interp, ch2_interp = ts[start*fs:end*fs], ch1_interp[start*fs:end*fs], ch2_interp[start*fs:end*fs]\n",
    "    ts_rel = ts - ts[0]\n",
    "    b, a = butter(2, 0.05, btype=\"high\", fs=10)\n",
    "    norm = filtfilt(b, a, (ch2_interp - ch1_interp) / ch1_interp)\n",
    "\n",
    "    # peak extraction\n",
    "    mad = np.median(np.abs(norm - np.median(norm)))\n",
    "    thresh1 = np.median(norm) + 2*mad\n",
    "\n",
    "    point_under_thresh = norm[norm < thresh1]\n",
    "    mad2 = np.median(np.abs(point_under_thresh - np.median(point_under_thresh)))\n",
    "    thresh2 = np.median(point_under_thresh) + 2*mad2\n",
    "\n",
    "    norm_smooth = gaussian_filter1d(norm, 10)\n",
    "    peaks, peak_data = find_peaks(norm_smooth, height=thresh2)\n",
    "    \n",
    "    #Peak count\n",
    "    peak_count = len(peaks)\n",
    "    print(\"Number of peaks:\", peak_count)\n",
    "    print(2*mad2)"
   ]
  }
 ],
 "metadata": {
  "kernelspec": {
   "display_name": "Python 3 (ipykernel)",
   "language": "python",
   "name": "python3"
  },
  "language_info": {
   "codemirror_mode": {
    "name": "ipython",
    "version": 3
   },
   "file_extension": ".py",
   "mimetype": "text/x-python",
   "name": "python",
   "nbconvert_exporter": "python",
   "pygments_lexer": "ipython3",
   "version": "3.11.7"
  }
 },
 "nbformat": 4,
 "nbformat_minor": 5
}
